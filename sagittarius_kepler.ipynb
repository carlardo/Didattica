{
  "nbformat": 4,
  "nbformat_minor": 0,
  "metadata": {
    "colab": {
      "provenance": []
    },
    "kernelspec": {
      "name": "python3",
      "display_name": "Python 3"
    },
    "language_info": {
      "name": "python"
    }
  },
  "cells": [
    {
      "cell_type": "markdown",
      "source": [
        "# \"Pesare\" un buco nero\n",
        "\n",
        "In questo codice, stiamo analizzando la relazione tra il quadrato del periodo orbitale ($T^2$) e il cubo del semi-asse maggiore ($a^3$) per un insieme di stelle (identificate come \"S1\", \"S2\", ecc.). La relazione tra queste grandezze segue la Legge di Keplero, che prevede una correlazione lineare tra $T^2$ e $a^3$. L'obiettivo è eseguire una regressione lineare per determinare il coefficiente angolare della retta che meglio riproduce l'andamento dei dati, che ci fornirà informazioni sulla massa del buco nero centrale.\n"
      ],
      "metadata": {
        "id": "k6YLcW4ZePxe"
      }
    },
    {
      "cell_type": "markdown",
      "source": [
        "## Caricamento dei Dati\n",
        "\n",
        "I dati delle stelle (indice, semi-asse maggiore cubo `a^3` e periodo orbitale quadrato `T^2`) sono forniti in un dizionario, che viene successivamente convertito in array NumPy per facilitare i calcoli.\n"
      ],
      "metadata": {
        "id": "mBIwqHUPgiIe"
      }
    },
    {
      "cell_type": "code",
      "source": [
        "import numpy as np\n",
        "import matplotlib.pyplot as plt\n",
        "from scipy.stats import linregress\n",
        "\n",
        "# Dati: Semi-asse maggiore (a^3 in 10^9 UA^3) e Periodo orbitale (T^2 in 10^3 anni²)\n",
        "data = {\n",
        "    \"Star\": [\"S1\", \"S2\", \"S8\", \"S12\", \"S13\", \"S14\"],\n",
        "    \"a3\": [35.9, 0.941, 18.2, 12.0, 5.36, 5.83],\n",
        "    \"T2\": [8.85, 0.231, 4.52, 2.96, 1.3, 1.4]\n",
        "}\n",
        "\n",
        "# Conversione dei dati in array numpy\n",
        "T2 = np.array(data[\"T2\"])  # Periodo orbitale al quadrato (10^3 anni²)\n",
        "a3 = np.array(data[\"a3\"])  # Semi-major axis al cubo (10^9 UA³)"
      ],
      "metadata": {
        "id": "7UKxbJNHgh2m"
      },
      "execution_count": 2,
      "outputs": []
    },
    {
      "cell_type": "markdown",
      "source": [
        "##Regressione Lineare\n",
        "\n",
        "Utilizzando la funzione `linregress` di `scipy.stats`, viene eseguita una regressione lineare sui dati. La funzione calcola il coefficiente angolare, l'intercetta, il valore di correlazione r, il valore di p e l'errore standard della regressione.\n",
        "\n",
        "Successivamente, un intervallo di valori per $T^2$ (variabile indipendente) viene creato utilizzando `np.linspace` per generare una linea di regressione continua per la visualizzazione."
      ],
      "metadata": {
        "id": "A_kDJtFugv1r"
      }
    },
    {
      "cell_type": "code",
      "source": [
        "# Esegui la regressione lineare per trovare la pendenza e l'intercetta\n",
        "slope, intercept, r_value, p_value, std_err = linregress(T2, a3)\n",
        "\n",
        "# Crea una linea liscia per tracciare il fit lineare\n",
        "tl = np.linspace(min(T2), max(T2), 100)"
      ],
      "metadata": {
        "id": "Hg58i51Sg-sS"
      },
      "execution_count": null,
      "outputs": []
    },
    {
      "cell_type": "markdown",
      "source": [
        "##Visualizzazione e Stima della Massa\n",
        "\n",
        "Il grafico risultante viene creato con `matplotlib.pyplot`, utilizzando un diagramma a dispersione (*scatter plot*) per i dati e una linea rossa tratteggiata per rappresentare la retta di regressione. Vengono aggiunti anche i dettagli del grafico, come le etichette degli assi, la griglia e una legenda.\n",
        "\n",
        "Il valore del coefficiente angolare della retta di regressione viene stampato, il che fornisce una stima della massa del buco nero centrale del sistema, in unità di massa solare (M⊙)."
      ],
      "metadata": {
        "id": "RB4a6zUyhGb8"
      }
    },
    {
      "cell_type": "code",
      "source": [
        "# Traccia i dati e il fit della regressione lineare\n",
        "plt.figure(figsize=(5, 7))\n",
        "plt.scatter(T2, a3, color='black', label='Dati', zorder=5)\n",
        "plt.plot(tl, slope * tl + intercept, color='red', linestyle='--', label=f'Coeff. angolare = {slope:.1f} x10^6 M⊙', zorder=3)\n",
        "\n",
        "\n",
        "plt.xlabel('$T^2$ (x $10^3$ anni²)', fontsize=12)\n",
        "plt.ylabel('$a^3$ (x $10^9$ UA³)', fontsize=12)\n",
        "plt.legend(loc='best')\n",
        "plt.minorticks_on()  # Abilita le tacche minori\n",
        "plt.grid(True, which='both', color='lightskyblue', linestyle='-', linewidth=0.7)  # Imposta il colore ciano, linee tratteggiate, spaziatura più piccola della griglia\n",
        "\n",
        "# Mostra il grafico\n",
        "plt.show()\n",
        "\n",
        "# Stampa la massa stimata del buco nero (in masse solari, M⊙)\n",
        "print(f\"Massa stimata: {slope:.1f}x10^6 M⊙\")"
      ],
      "metadata": {
        "id": "gZJPmDz5hUVG"
      },
      "execution_count": null,
      "outputs": []
    },
    {
      "cell_type": "markdown",
      "source": [
        "Perché  questo risultato fornisce prove del fatto che Sgr A\\* è un buco nero?"
      ],
      "metadata": {
        "id": "ga_295NKXoGV"
      }
    }
  ]
}
